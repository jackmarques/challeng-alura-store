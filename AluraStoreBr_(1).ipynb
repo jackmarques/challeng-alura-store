{
  "nbformat": 4,
  "nbformat_minor": 0,
  "metadata": {
    "colab": {
      "provenance": []
    },
    "kernelspec": {
      "name": "python3",
      "display_name": "Python 3"
    },
    "language_info": {
      "name": "python"
    }
  },
  "cells": [
    {
      "cell_type": "markdown",
      "source": [
        "### Importação dos dados\n",
        "\n"
      ],
      "metadata": {
        "id": "RhEdWd9YUR6H"
      }
    },
    {
      "cell_type": "code",
      "execution_count": 2,
      "metadata": {
        "colab": {
          "base_uri": "https://localhost:8080/",
          "height": 206
        },
        "id": "T3EvaeQ_INIL",
        "outputId": "0b9f5b99-5db2-4287-ae0b-bfd2d114f907"
      },
      "outputs": [
        {
          "output_type": "execute_result",
          "data": {
            "text/plain": [
              "                 Produto Categoria do Produto    Preço      Frete  \\\n",
              "0     Assistente virtual          eletronicos   219.08   9.249790   \n",
              "1         Mesa de jantar               moveis   256.35  11.234305   \n",
              "2      Jogo de tabuleiro           brinquedos   279.51  21.262681   \n",
              "3            Micro-ondas     eletrodomesticos  1009.99  54.667344   \n",
              "4  Cadeira de escritório               moveis   446.99  26.964689   \n",
              "\n",
              "  Data da Compra        Vendedor Local da compra  Avaliação da compra  \\\n",
              "0     16/01/2021     Pedro Gomes              SP                    4   \n",
              "1     18/05/2022  Beatriz Moraes              RJ                    1   \n",
              "2     15/03/2021      João Souza              DF                    1   \n",
              "3     03/05/2022      João Souza              RS                    4   \n",
              "4     07/11/2020   Larissa Alves              MG                    5   \n",
              "\n",
              "  Tipo de pagamento  Quantidade de parcelas    lat    lon  \n",
              "0    cartao_credito                       8 -22.19 -48.79  \n",
              "1    cartao_credito                       4 -22.25 -42.66  \n",
              "2    cartao_credito                       1 -15.83 -47.86  \n",
              "3            boleto                       1 -30.17 -53.50  \n",
              "4            boleto                       1 -18.10 -44.38  "
            ],
            "text/html": [
              "\n",
              "  <div id=\"df-22bd9a02-65c1-4fd1-be0e-d5ead3954c03\" class=\"colab-df-container\">\n",
              "    <div>\n",
              "<style scoped>\n",
              "    .dataframe tbody tr th:only-of-type {\n",
              "        vertical-align: middle;\n",
              "    }\n",
              "\n",
              "    .dataframe tbody tr th {\n",
              "        vertical-align: top;\n",
              "    }\n",
              "\n",
              "    .dataframe thead th {\n",
              "        text-align: right;\n",
              "    }\n",
              "</style>\n",
              "<table border=\"1\" class=\"dataframe\">\n",
              "  <thead>\n",
              "    <tr style=\"text-align: right;\">\n",
              "      <th></th>\n",
              "      <th>Produto</th>\n",
              "      <th>Categoria do Produto</th>\n",
              "      <th>Preço</th>\n",
              "      <th>Frete</th>\n",
              "      <th>Data da Compra</th>\n",
              "      <th>Vendedor</th>\n",
              "      <th>Local da compra</th>\n",
              "      <th>Avaliação da compra</th>\n",
              "      <th>Tipo de pagamento</th>\n",
              "      <th>Quantidade de parcelas</th>\n",
              "      <th>lat</th>\n",
              "      <th>lon</th>\n",
              "    </tr>\n",
              "  </thead>\n",
              "  <tbody>\n",
              "    <tr>\n",
              "      <th>0</th>\n",
              "      <td>Assistente virtual</td>\n",
              "      <td>eletronicos</td>\n",
              "      <td>219.08</td>\n",
              "      <td>9.249790</td>\n",
              "      <td>16/01/2021</td>\n",
              "      <td>Pedro Gomes</td>\n",
              "      <td>SP</td>\n",
              "      <td>4</td>\n",
              "      <td>cartao_credito</td>\n",
              "      <td>8</td>\n",
              "      <td>-22.19</td>\n",
              "      <td>-48.79</td>\n",
              "    </tr>\n",
              "    <tr>\n",
              "      <th>1</th>\n",
              "      <td>Mesa de jantar</td>\n",
              "      <td>moveis</td>\n",
              "      <td>256.35</td>\n",
              "      <td>11.234305</td>\n",
              "      <td>18/05/2022</td>\n",
              "      <td>Beatriz Moraes</td>\n",
              "      <td>RJ</td>\n",
              "      <td>1</td>\n",
              "      <td>cartao_credito</td>\n",
              "      <td>4</td>\n",
              "      <td>-22.25</td>\n",
              "      <td>-42.66</td>\n",
              "    </tr>\n",
              "    <tr>\n",
              "      <th>2</th>\n",
              "      <td>Jogo de tabuleiro</td>\n",
              "      <td>brinquedos</td>\n",
              "      <td>279.51</td>\n",
              "      <td>21.262681</td>\n",
              "      <td>15/03/2021</td>\n",
              "      <td>João Souza</td>\n",
              "      <td>DF</td>\n",
              "      <td>1</td>\n",
              "      <td>cartao_credito</td>\n",
              "      <td>1</td>\n",
              "      <td>-15.83</td>\n",
              "      <td>-47.86</td>\n",
              "    </tr>\n",
              "    <tr>\n",
              "      <th>3</th>\n",
              "      <td>Micro-ondas</td>\n",
              "      <td>eletrodomesticos</td>\n",
              "      <td>1009.99</td>\n",
              "      <td>54.667344</td>\n",
              "      <td>03/05/2022</td>\n",
              "      <td>João Souza</td>\n",
              "      <td>RS</td>\n",
              "      <td>4</td>\n",
              "      <td>boleto</td>\n",
              "      <td>1</td>\n",
              "      <td>-30.17</td>\n",
              "      <td>-53.50</td>\n",
              "    </tr>\n",
              "    <tr>\n",
              "      <th>4</th>\n",
              "      <td>Cadeira de escritório</td>\n",
              "      <td>moveis</td>\n",
              "      <td>446.99</td>\n",
              "      <td>26.964689</td>\n",
              "      <td>07/11/2020</td>\n",
              "      <td>Larissa Alves</td>\n",
              "      <td>MG</td>\n",
              "      <td>5</td>\n",
              "      <td>boleto</td>\n",
              "      <td>1</td>\n",
              "      <td>-18.10</td>\n",
              "      <td>-44.38</td>\n",
              "    </tr>\n",
              "  </tbody>\n",
              "</table>\n",
              "</div>\n",
              "    <div class=\"colab-df-buttons\">\n",
              "\n",
              "  <div class=\"colab-df-container\">\n",
              "    <button class=\"colab-df-convert\" onclick=\"convertToInteractive('df-22bd9a02-65c1-4fd1-be0e-d5ead3954c03')\"\n",
              "            title=\"Convert this dataframe to an interactive table.\"\n",
              "            style=\"display:none;\">\n",
              "\n",
              "  <svg xmlns=\"http://www.w3.org/2000/svg\" height=\"24px\" viewBox=\"0 -960 960 960\">\n",
              "    <path d=\"M120-120v-720h720v720H120Zm60-500h600v-160H180v160Zm220 220h160v-160H400v160Zm0 220h160v-160H400v160ZM180-400h160v-160H180v160Zm440 0h160v-160H620v160ZM180-180h160v-160H180v160Zm440 0h160v-160H620v160Z\"/>\n",
              "  </svg>\n",
              "    </button>\n",
              "\n",
              "  <style>\n",
              "    .colab-df-container {\n",
              "      display:flex;\n",
              "      gap: 12px;\n",
              "    }\n",
              "\n",
              "    .colab-df-convert {\n",
              "      background-color: #E8F0FE;\n",
              "      border: none;\n",
              "      border-radius: 50%;\n",
              "      cursor: pointer;\n",
              "      display: none;\n",
              "      fill: #1967D2;\n",
              "      height: 32px;\n",
              "      padding: 0 0 0 0;\n",
              "      width: 32px;\n",
              "    }\n",
              "\n",
              "    .colab-df-convert:hover {\n",
              "      background-color: #E2EBFA;\n",
              "      box-shadow: 0px 1px 2px rgba(60, 64, 67, 0.3), 0px 1px 3px 1px rgba(60, 64, 67, 0.15);\n",
              "      fill: #174EA6;\n",
              "    }\n",
              "\n",
              "    .colab-df-buttons div {\n",
              "      margin-bottom: 4px;\n",
              "    }\n",
              "\n",
              "    [theme=dark] .colab-df-convert {\n",
              "      background-color: #3B4455;\n",
              "      fill: #D2E3FC;\n",
              "    }\n",
              "\n",
              "    [theme=dark] .colab-df-convert:hover {\n",
              "      background-color: #434B5C;\n",
              "      box-shadow: 0px 1px 3px 1px rgba(0, 0, 0, 0.15);\n",
              "      filter: drop-shadow(0px 1px 2px rgba(0, 0, 0, 0.3));\n",
              "      fill: #FFFFFF;\n",
              "    }\n",
              "  </style>\n",
              "\n",
              "    <script>\n",
              "      const buttonEl =\n",
              "        document.querySelector('#df-22bd9a02-65c1-4fd1-be0e-d5ead3954c03 button.colab-df-convert');\n",
              "      buttonEl.style.display =\n",
              "        google.colab.kernel.accessAllowed ? 'block' : 'none';\n",
              "\n",
              "      async function convertToInteractive(key) {\n",
              "        const element = document.querySelector('#df-22bd9a02-65c1-4fd1-be0e-d5ead3954c03');\n",
              "        const dataTable =\n",
              "          await google.colab.kernel.invokeFunction('convertToInteractive',\n",
              "                                                    [key], {});\n",
              "        if (!dataTable) return;\n",
              "\n",
              "        const docLinkHtml = 'Like what you see? Visit the ' +\n",
              "          '<a target=\"_blank\" href=https://colab.research.google.com/notebooks/data_table.ipynb>data table notebook</a>'\n",
              "          + ' to learn more about interactive tables.';\n",
              "        element.innerHTML = '';\n",
              "        dataTable['output_type'] = 'display_data';\n",
              "        await google.colab.output.renderOutput(dataTable, element);\n",
              "        const docLink = document.createElement('div');\n",
              "        docLink.innerHTML = docLinkHtml;\n",
              "        element.appendChild(docLink);\n",
              "      }\n",
              "    </script>\n",
              "  </div>\n",
              "\n",
              "\n",
              "    <div id=\"df-b860025e-a0e4-4c3c-87cb-f4c62021a85e\">\n",
              "      <button class=\"colab-df-quickchart\" onclick=\"quickchart('df-b860025e-a0e4-4c3c-87cb-f4c62021a85e')\"\n",
              "                title=\"Suggest charts\"\n",
              "                style=\"display:none;\">\n",
              "\n",
              "<svg xmlns=\"http://www.w3.org/2000/svg\" height=\"24px\"viewBox=\"0 0 24 24\"\n",
              "     width=\"24px\">\n",
              "    <g>\n",
              "        <path d=\"M19 3H5c-1.1 0-2 .9-2 2v14c0 1.1.9 2 2 2h14c1.1 0 2-.9 2-2V5c0-1.1-.9-2-2-2zM9 17H7v-7h2v7zm4 0h-2V7h2v10zm4 0h-2v-4h2v4z\"/>\n",
              "    </g>\n",
              "</svg>\n",
              "      </button>\n",
              "\n",
              "<style>\n",
              "  .colab-df-quickchart {\n",
              "      --bg-color: #E8F0FE;\n",
              "      --fill-color: #1967D2;\n",
              "      --hover-bg-color: #E2EBFA;\n",
              "      --hover-fill-color: #174EA6;\n",
              "      --disabled-fill-color: #AAA;\n",
              "      --disabled-bg-color: #DDD;\n",
              "  }\n",
              "\n",
              "  [theme=dark] .colab-df-quickchart {\n",
              "      --bg-color: #3B4455;\n",
              "      --fill-color: #D2E3FC;\n",
              "      --hover-bg-color: #434B5C;\n",
              "      --hover-fill-color: #FFFFFF;\n",
              "      --disabled-bg-color: #3B4455;\n",
              "      --disabled-fill-color: #666;\n",
              "  }\n",
              "\n",
              "  .colab-df-quickchart {\n",
              "    background-color: var(--bg-color);\n",
              "    border: none;\n",
              "    border-radius: 50%;\n",
              "    cursor: pointer;\n",
              "    display: none;\n",
              "    fill: var(--fill-color);\n",
              "    height: 32px;\n",
              "    padding: 0;\n",
              "    width: 32px;\n",
              "  }\n",
              "\n",
              "  .colab-df-quickchart:hover {\n",
              "    background-color: var(--hover-bg-color);\n",
              "    box-shadow: 0 1px 2px rgba(60, 64, 67, 0.3), 0 1px 3px 1px rgba(60, 64, 67, 0.15);\n",
              "    fill: var(--button-hover-fill-color);\n",
              "  }\n",
              "\n",
              "  .colab-df-quickchart-complete:disabled,\n",
              "  .colab-df-quickchart-complete:disabled:hover {\n",
              "    background-color: var(--disabled-bg-color);\n",
              "    fill: var(--disabled-fill-color);\n",
              "    box-shadow: none;\n",
              "  }\n",
              "\n",
              "  .colab-df-spinner {\n",
              "    border: 2px solid var(--fill-color);\n",
              "    border-color: transparent;\n",
              "    border-bottom-color: var(--fill-color);\n",
              "    animation:\n",
              "      spin 1s steps(1) infinite;\n",
              "  }\n",
              "\n",
              "  @keyframes spin {\n",
              "    0% {\n",
              "      border-color: transparent;\n",
              "      border-bottom-color: var(--fill-color);\n",
              "      border-left-color: var(--fill-color);\n",
              "    }\n",
              "    20% {\n",
              "      border-color: transparent;\n",
              "      border-left-color: var(--fill-color);\n",
              "      border-top-color: var(--fill-color);\n",
              "    }\n",
              "    30% {\n",
              "      border-color: transparent;\n",
              "      border-left-color: var(--fill-color);\n",
              "      border-top-color: var(--fill-color);\n",
              "      border-right-color: var(--fill-color);\n",
              "    }\n",
              "    40% {\n",
              "      border-color: transparent;\n",
              "      border-right-color: var(--fill-color);\n",
              "      border-top-color: var(--fill-color);\n",
              "    }\n",
              "    60% {\n",
              "      border-color: transparent;\n",
              "      border-right-color: var(--fill-color);\n",
              "    }\n",
              "    80% {\n",
              "      border-color: transparent;\n",
              "      border-right-color: var(--fill-color);\n",
              "      border-bottom-color: var(--fill-color);\n",
              "    }\n",
              "    90% {\n",
              "      border-color: transparent;\n",
              "      border-bottom-color: var(--fill-color);\n",
              "    }\n",
              "  }\n",
              "</style>\n",
              "\n",
              "      <script>\n",
              "        async function quickchart(key) {\n",
              "          const quickchartButtonEl =\n",
              "            document.querySelector('#' + key + ' button');\n",
              "          quickchartButtonEl.disabled = true;  // To prevent multiple clicks.\n",
              "          quickchartButtonEl.classList.add('colab-df-spinner');\n",
              "          try {\n",
              "            const charts = await google.colab.kernel.invokeFunction(\n",
              "                'suggestCharts', [key], {});\n",
              "          } catch (error) {\n",
              "            console.error('Error during call to suggestCharts:', error);\n",
              "          }\n",
              "          quickchartButtonEl.classList.remove('colab-df-spinner');\n",
              "          quickchartButtonEl.classList.add('colab-df-quickchart-complete');\n",
              "        }\n",
              "        (() => {\n",
              "          let quickchartButtonEl =\n",
              "            document.querySelector('#df-b860025e-a0e4-4c3c-87cb-f4c62021a85e button');\n",
              "          quickchartButtonEl.style.display =\n",
              "            google.colab.kernel.accessAllowed ? 'block' : 'none';\n",
              "        })();\n",
              "      </script>\n",
              "    </div>\n",
              "\n",
              "    </div>\n",
              "  </div>\n"
            ],
            "application/vnd.google.colaboratory.intrinsic+json": {
              "type": "dataframe",
              "variable_name": "loja",
              "summary": "{\n  \"name\": \"loja\",\n  \"rows\": 2359,\n  \"fields\": [\n    {\n      \"column\": \"Produto\",\n      \"properties\": {\n        \"dtype\": \"category\",\n        \"num_unique_values\": 51,\n        \"samples\": [\n          \"Viol\\u00e3o\",\n          \"Bola de basquete\",\n          \"Smartwatch\"\n        ],\n        \"semantic_type\": \"\",\n        \"description\": \"\"\n      }\n    },\n    {\n      \"column\": \"Categoria do Produto\",\n      \"properties\": {\n        \"dtype\": \"category\",\n        \"num_unique_values\": 8,\n        \"samples\": [\n          \"moveis\",\n          \"esporte e lazer\",\n          \"eletronicos\"\n        ],\n        \"semantic_type\": \"\",\n        \"description\": \"\"\n      }\n    },\n    {\n      \"column\": \"Pre\\u00e7o\",\n      \"properties\": {\n        \"dtype\": \"number\",\n        \"std\": 819.5827782539145,\n        \"min\": 10.07,\n        \"max\": 3969.38,\n        \"num_unique_values\": 2315,\n        \"samples\": [\n          446.11,\n          107.31,\n          65.86\n        ],\n        \"semantic_type\": \"\",\n        \"description\": \"\"\n      }\n    },\n    {\n      \"column\": \"Frete\",\n      \"properties\": {\n        \"dtype\": \"number\",\n        \"std\": 43.814183327408166,\n        \"min\": 0.0,\n        \"max\": 214.3770604781,\n        \"num_unique_values\": 2149,\n        \"samples\": [\n          83.815279607,\n          16.069664669,\n          14.0344876928\n        ],\n        \"semantic_type\": \"\",\n        \"description\": \"\"\n      }\n    },\n    {\n      \"column\": \"Data da Compra\",\n      \"properties\": {\n        \"dtype\": \"object\",\n        \"num_unique_values\": 1018,\n        \"samples\": [\n          \"15/09/2022\",\n          \"03/06/2020\",\n          \"06/11/2021\"\n        ],\n        \"semantic_type\": \"\",\n        \"description\": \"\"\n      }\n    },\n    {\n      \"column\": \"Vendedor\",\n      \"properties\": {\n        \"dtype\": \"category\",\n        \"num_unique_values\": 14,\n        \"samples\": [\n          \"Juliana Costa\",\n          \"Mariana Ferreira\",\n          \"Pedro Gomes\"\n        ],\n        \"semantic_type\": \"\",\n        \"description\": \"\"\n      }\n    },\n    {\n      \"column\": \"Local da compra\",\n      \"properties\": {\n        \"dtype\": \"category\",\n        \"num_unique_values\": 26,\n        \"samples\": [\n          \"TO\",\n          \"RN\",\n          \"SP\"\n        ],\n        \"semantic_type\": \"\",\n        \"description\": \"\"\n      }\n    },\n    {\n      \"column\": \"Avalia\\u00e7\\u00e3o da compra\",\n      \"properties\": {\n        \"dtype\": \"number\",\n        \"std\": 1,\n        \"min\": 1,\n        \"max\": 5,\n        \"num_unique_values\": 5,\n        \"samples\": [\n          1,\n          2,\n          5\n        ],\n        \"semantic_type\": \"\",\n        \"description\": \"\"\n      }\n    },\n    {\n      \"column\": \"Tipo de pagamento\",\n      \"properties\": {\n        \"dtype\": \"category\",\n        \"num_unique_values\": 4,\n        \"samples\": [\n          \"boleto\",\n          \"cartao_debito\",\n          \"cartao_credito\"\n        ],\n        \"semantic_type\": \"\",\n        \"description\": \"\"\n      }\n    },\n    {\n      \"column\": \"Quantidade de parcelas\",\n      \"properties\": {\n        \"dtype\": \"number\",\n        \"std\": 2,\n        \"min\": 1,\n        \"max\": 24,\n        \"num_unique_values\": 15,\n        \"samples\": [\n          7,\n          14,\n          8\n        ],\n        \"semantic_type\": \"\",\n        \"description\": \"\"\n      }\n    },\n    {\n      \"column\": \"lat\",\n      \"properties\": {\n        \"dtype\": \"number\",\n        \"std\": 5.372399916530833,\n        \"min\": -30.17,\n        \"max\": 1.41,\n        \"num_unique_values\": 26,\n        \"samples\": [\n          -9.46,\n          -5.81,\n          -22.19\n        ],\n        \"semantic_type\": \"\",\n        \"description\": \"\"\n      }\n    },\n    {\n      \"column\": \"lon\",\n      \"properties\": {\n        \"dtype\": \"number\",\n        \"std\": 4.183180020544179,\n        \"min\": -70.55,\n        \"max\": -36.59,\n        \"num_unique_values\": 26,\n        \"samples\": [\n          -48.26,\n          -36.59,\n          -48.79\n        ],\n        \"semantic_type\": \"\",\n        \"description\": \"\"\n      }\n    }\n  ]\n}"
            }
          },
          "metadata": {},
          "execution_count": 2
        }
      ],
      "source": [
        "import pandas as pd\n",
        "\n",
        "url = \"https://raw.githubusercontent.com/alura-es-cursos/challenge1-data-science/refs/heads/main/base-de-dados-challenge-1/loja_1.csv\"\n",
        "url2 = \"https://raw.githubusercontent.com/alura-es-cursos/challenge1-data-science/refs/heads/main/base-de-dados-challenge-1/loja_2.csv\"\n",
        "url3 = \"https://raw.githubusercontent.com/alura-es-cursos/challenge1-data-science/refs/heads/main/base-de-dados-challenge-1/loja_3.csv\"\n",
        "url4 = \"https://raw.githubusercontent.com/alura-es-cursos/challenge1-data-science/refs/heads/main/base-de-dados-challenge-1/loja_4.csv\"\n",
        "\n",
        "loja = pd.read_csv(url)\n",
        "loja2 = pd.read_csv(url2)\n",
        "loja3 = pd.read_csv(url3)\n",
        "loja4 = pd.read_csv(url4)\n",
        "\n",
        "loja.head()"
      ]
    },
    {
      "cell_type": "markdown",
      "source": [
        "#1. Análise do faturamento\n"
      ],
      "metadata": {
        "id": "X62IW3KFUIYm"
      }
    },
    {
      "cell_type": "code",
      "source": [
        "import pandas as pd\n",
        "\n",
        "# URLs dos dados\n",
        "urls = {\n",
        "    \"Loja 1\": \"https://raw.githubusercontent.com/alura-es-cursos/challenge1-data-science/refs/heads/main/base-de-dados-challenge-1/loja_1.csv\",\n",
        "    \"Loja 2\": \"https://raw.githubusercontent.com/alura-es-cursos/challenge1-data-science/refs/heads/main/base-de-dados-challenge-1/loja_2.csv\",\n",
        "    \"Loja 3\": \"https://raw.githubusercontent.com/alura-es-cursos/challenge1-data-science/refs/heads/main/base-de-dados-challenge-1/loja_3.csv\",\n",
        "    \"Loja 4\": \"https://raw.githubusercontent.com/alura-es-cursos/challenge1-data-science/refs/heads/main/base-de-dados-challenge-1/loja_4.csv\",\n",
        "}\n",
        "\n",
        "# Carregar e padronizar os dados\n",
        "dados_lojas = {}\n",
        "for nome, url in urls.items():\n",
        "    df = pd.read_csv(url)\n",
        "    df.columns = df.columns.str.strip().str.lower().str.replace(\"ç\", \"c\")\n",
        "    df[\"faturamento\"] = df[\"preco\"]  # Cada linha representa 1 produto vendido\n",
        "    dados_lojas[nome] = df\n",
        "\n",
        "# Calcular o faturamento total por loja\n",
        "for loja, df in dados_lojas.items():\n",
        "    total = df[\"faturamento\"].sum()\n",
        "    print(f\"{loja}: R$ {total:,.2f}\")\n"
      ],
      "metadata": {
        "colab": {
          "base_uri": "https://localhost:8080/"
        },
        "id": "ThbIPkax3x1i",
        "outputId": "4a0a3f91-84c4-4352-8041-02e899fd5f0b"
      },
      "execution_count": 3,
      "outputs": [
        {
          "output_type": "stream",
          "name": "stdout",
          "text": [
            "Loja 1: R$ 1,534,509.12\n",
            "Loja 2: R$ 1,488,459.06\n",
            "Loja 3: R$ 1,464,025.03\n",
            "Loja 4: R$ 1,384,497.58\n"
          ]
        }
      ]
    },
    {
      "cell_type": "code",
      "source": [
        "import matplotlib.pyplot as plt\n",
        "import seaborn as sns\n",
        "\n",
        "# Carregar e padronizar os dados\n",
        "dados_lojas = {}\n",
        "for nome, url in urls.items():\n",
        "    df = pd.read_csv(url)\n",
        "    df.columns = df.columns.str.strip().str.lower().str.replace(\"ç\", \"c\")\n",
        "    df[\"faturamento\"] = df[\"preco\"]  # Cada linha representa 1 produto vendido\n",
        "    dados_lojas[nome] = df\n",
        "\n",
        "# Calcular o faturamento total de todas as lojas\n",
        "faturamento_total_geral = sum([df[\"faturamento\"].sum() for df in dados_lojas.values()])\n",
        "\n",
        "# Calcular o percentual de faturamento por loja\n",
        "percentual_faturamento = {}\n",
        "for loja, df in dados_lojas.items():\n",
        "    faturamento_loja = df[\"faturamento\"].sum()\n",
        "    percentual = (faturamento_loja / faturamento_total_geral) * 100\n",
        "    percentual_faturamento[loja] = percentual\n",
        "\n",
        "# Criar o gráfico de barras\n",
        "sns.set(style=\"whitegrid\")\n",
        "\n",
        "# Preparar os dados para o gráfico\n",
        "df_percentual = pd.DataFrame({\n",
        "    \"Loja\": list(percentual_faturamento.keys()),\n",
        "    \"Percentual de Faturamento (%)\": list(percentual_faturamento.values())\n",
        "})\n",
        "\n",
        "# Plotar o gráfico\n",
        "plt.figure(figsize=(8, 5))\n",
        "sns.barplot(x=\"Loja\", y=\"Percentual de Faturamento (%)\", data=df_percentual, palette=\"Blues_d\")\n",
        "\n",
        "# Adicionar rótulos\n",
        "plt.title(\"Percentual de Faturamento por Loja\", fontsize=16)\n",
        "plt.ylabel(\"Percentual de Faturamento (%)\", fontsize=12)\n",
        "plt.xlabel(\"Loja\", fontsize=12)\n",
        "\n",
        "# Adicionar valores no topo das barras\n",
        "for i, valor in enumerate(df_percentual[\"Percentual de Faturamento (%)\"]):\n",
        "    plt.text(i, valor + 0.5, f\"{valor:.1f}%\", ha='center', va='bottom', fontsize=10)\n",
        "\n",
        "# Melhorar a disposição do gráfico\n",
        "plt.tight_layout()\n",
        "\n",
        "# Mostrar o gráfico\n",
        "plt.show()\n",
        "\n",
        "\n",
        "\n",
        "\n",
        "plt.tight_layout()\n",
        "plt.show()\n"
      ],
      "metadata": {
        "colab": {
          "base_uri": "https://localhost:8080/",
          "height": 605
        },
        "id": "InO7SHEC5n2s",
        "outputId": "acd30ae4-f907-4d4d-e19c-b9676d9467f6"
      },
      "execution_count": 4,
      "outputs": [
        {
          "output_type": "stream",
          "name": "stderr",
          "text": [
            "<ipython-input-4-c1a67b75dd79>:33: FutureWarning: \n",
            "\n",
            "Passing `palette` without assigning `hue` is deprecated and will be removed in v0.14.0. Assign the `x` variable to `hue` and set `legend=False` for the same effect.\n",
            "\n",
            "  sns.barplot(x=\"Loja\", y=\"Percentual de Faturamento (%)\", data=df_percentual, palette=\"Blues_d\")\n"
          ]
        },
        {
          "output_type": "display_data",
          "data": {
            "text/plain": [
              "<Figure size 800x500 with 1 Axes>"
            ],
            "image/png": "[encoded data removed]"
          },
          "metadata": {}
        },
        {
          "output_type": "display_data",
          "data": {
            "text/plain": [
              "<Figure size 640x480 with 0 Axes>"
            ]
          },
          "metadata": {}
        }
      ]
    },
    {
      "cell_type": "markdown",
      "source": [
        "# 2. Vendas por Categoria\n"
      ],
      "metadata": {
        "id": "2V_vcAPzWZmR"
      }
    },
    {
      "cell_type": "code",
      "source": [
        "for loja, df in dados_lojas.items():\n",
        "    print(f\"\\n📊 {loja} - Top 5 Categorias Mais Vendidas:\")\n",
        "\n",
        "    categorias_vendidas = (\n",
        "        df[\"categoria do produto\"]\n",
        "        .value_counts()\n",
        "        .head(5)\n",
        "    )\n",
        "\n",
        "    print(categorias_vendidas)\n"
      ],
      "metadata": {
        "id": "A34YupIuYhfF",
        "colab": {
          "base_uri": "https://localhost:8080/"
        },
        "outputId": "6b338059-af34-4f67-a7d1-0b54b07b1d6e"
      },
      "execution_count": 5,
      "outputs": [
        {
          "output_type": "stream",
          "name": "stdout",
          "text": [
            "\n",
            "📊 Loja 1 - Top 5 Categorias Mais Vendidas:\n",
            "categoria do produto\n",
            "moveis              465\n",
            "eletronicos         448\n",
            "brinquedos          324\n",
            "eletrodomesticos    312\n",
            "esporte e lazer     284\n",
            "Name: count, dtype: int64\n",
            "\n",
            "📊 Loja 2 - Top 5 Categorias Mais Vendidas:\n",
            "categoria do produto\n",
            "moveis              442\n",
            "eletronicos         422\n",
            "brinquedos          313\n",
            "eletrodomesticos    305\n",
            "esporte e lazer     275\n",
            "Name: count, dtype: int64\n",
            "\n",
            "📊 Loja 3 - Top 5 Categorias Mais Vendidas:\n",
            "categoria do produto\n",
            "moveis              499\n",
            "eletronicos         451\n",
            "brinquedos          315\n",
            "eletrodomesticos    278\n",
            "esporte e lazer     277\n",
            "Name: count, dtype: int64\n",
            "\n",
            "📊 Loja 4 - Top 5 Categorias Mais Vendidas:\n",
            "categoria do produto\n",
            "moveis              480\n",
            "eletronicos         451\n",
            "brinquedos          338\n",
            "esporte e lazer     277\n",
            "eletrodomesticos    254\n",
            "Name: count, dtype: int64\n"
          ]
        }
      ]
    },
    {
      "cell_type": "code",
      "source": [
        "import matplotlib.pyplot as plt\n",
        "import seaborn as sns\n",
        "\n",
        "# 1. Contar vendas por categoria em todas as lojas\n",
        "from collections import Counter\n",
        "\n",
        "contador_total = Counter()\n",
        "\n",
        "for df in dados_lojas.values():\n",
        "    contador_total.update(df[\"categoria do produto\"].value_counts().to_dict())\n",
        "\n",
        "# 2. Selecionar as 5 categorias mais vendidas no geral\n",
        "top_categorias = [categoria for categoria, _ in contador_total.most_common(5)]\n",
        "\n",
        "# 3. Filtrar e montar DataFrame com essas categorias\n",
        "dados_categorias = []\n",
        "\n",
        "for loja, df in dados_lojas.items():\n",
        "    contagem = df[\"categoria do produto\"].value_counts()\n",
        "    for categoria in top_categorias:\n",
        "        vendas = contagem.get(categoria, 0)\n",
        "        dados_categorias.append({\n",
        "            \"Loja\": loja,\n",
        "            \"Categoria\": categoria,\n",
        "            \"Vendas\": vendas\n",
        "        })\n",
        "\n",
        "df_categorias = pd.DataFrame(dados_categorias)\n",
        "\n",
        "# 4. Gráfico aprimorado\n",
        "plt.figure(figsize=(10, 6))\n",
        "sns.set(style=\"whitegrid\")\n",
        "palette = sns.color_palette(\"Set2\")\n",
        "\n",
        "barplot = sns.barplot(\n",
        "    data=df_categorias,\n",
        "    x=\"Categoria\",\n",
        "    y=\"Vendas\",\n",
        "    hue=\"Loja\",\n",
        "    palette=palette\n",
        ")\n",
        "\n",
        "# 5. Rótulos nas barras\n",
        "for p in barplot.patches:\n",
        "    height = p.get_height()\n",
        "    if height > 0:\n",
        "        barplot.annotate(f'{int(height)}',\n",
        "                         (p.get_x() + p.get_width() / 2., height),\n",
        "                         ha='center', va='bottom', fontsize=9)\n",
        "\n",
        "# Títulos e ajustes\n",
        "plt.title(\"Top 5 Categorias Mais Vendidas por Loja\", fontsize=14)\n",
        "plt.xlabel(\"Categoria do Produto\")\n",
        "plt.ylabel(\"Quantidade de Vendas\")\n",
        "plt.xticks(rotation=30)\n",
        "plt.legend(title=\"Loja\", fontsize=9, title_fontsize=10)\n",
        "plt.tight_layout()\n",
        "plt.show()\n",
        "\n"
      ],
      "metadata": {
        "id": "yZR6cOjXYSk1",
        "colab": {
          "base_uri": "https://localhost:8080/",
          "height": 636
        },
        "outputId": "5a0d9390-92a9-4de7-b612-69a29669411a"
      },
      "execution_count": 6,
      "outputs": [
        {
          "output_type": "stream",
          "name": "stderr",
          "text": [
            "<ipython-input-6-1ffcd24b3cc8>:35: UserWarning: The palette list has more values (8) than needed (4), which may not be intended.\n",
            "  barplot = sns.barplot(\n"
          ]
        },
        {
          "output_type": "display_data",
          "data": {
            "text/plain": [
              "<Figure size 1000x600 with 1 Axes>"
            ],
            "image/png": "[encoded data removed]"
          },
          "metadata": {}
        }
      ]
    },
    {
      "cell_type": "markdown",
      "source": [
        "# 3. Média de Avaliação das Lojas"
      ],
      "metadata": {
        "id": "Rq6tU_xSY3jk"
      }
    },
    {
      "cell_type": "code",
      "source": [
        "for i, col in enumerate(df.columns):\n",
        "    print(f\"{i}: '{col}'\")"
      ],
      "metadata": {
        "id": "bh3jjjJwY5MU",
        "colab": {
          "base_uri": "https://localhost:8080/"
        },
        "outputId": "afedcc46-b855-426e-b46a-b982640cbd7a"
      },
      "execution_count": 7,
      "outputs": [
        {
          "output_type": "stream",
          "name": "stdout",
          "text": [
            "0: 'produto'\n",
            "1: 'categoria do produto'\n",
            "2: 'preco'\n",
            "3: 'frete'\n",
            "4: 'data da compra'\n",
            "5: 'vendedor'\n",
            "6: 'local da compra'\n",
            "7: 'avaliacão da compra'\n",
            "8: 'tipo de pagamento'\n",
            "9: 'quantidade de parcelas'\n",
            "10: 'lat'\n",
            "11: 'lon'\n",
            "12: 'faturamento'\n"
          ]
        }
      ]
    },
    {
      "cell_type": "code",
      "source": [
        "# Remover espaços extras nas colunas de cada DataFrame\n",
        "for loja, df in dados_lojas.items():\n",
        "    df.columns = df.columns.str.strip()\n",
        "    dados_lojas[loja] = df  # Atualiza o dicionário com os DataFrames corrigidos\n"
      ],
      "metadata": {
        "id": "I0KkjPoTY88F"
      },
      "execution_count": 8,
      "outputs": []
    },
    {
      "cell_type": "code",
      "source": [
        "for loja, df in dados_lojas.items():\n",
        "    print(f\"--- Colunas da loja: {loja} ---\")\n",
        "    print(df.columns)"
      ],
      "metadata": {
        "colab": {
          "base_uri": "https://localhost:8080/"
        },
        "id": "8y1bqt2f7fiO",
        "outputId": "99b35225-7354-4d83-c9ce-0140bf6820f8"
      },
      "execution_count": 9,
      "outputs": [
        {
          "output_type": "stream",
          "name": "stdout",
          "text": [
            "--- Colunas da loja: Loja 1 ---\n",
            "Index(['produto', 'categoria do produto', 'preco', 'frete', 'data da compra',\n",
            "       'vendedor', 'local da compra', 'avaliacão da compra',\n",
            "       'tipo de pagamento', 'quantidade de parcelas', 'lat', 'lon',\n",
            "       'faturamento'],\n",
            "      dtype='object')\n",
            "--- Colunas da loja: Loja 2 ---\n",
            "Index(['produto', 'categoria do produto', 'preco', 'frete', 'data da compra',\n",
            "       'vendedor', 'local da compra', 'avaliacão da compra',\n",
            "       'tipo de pagamento', 'quantidade de parcelas', 'lat', 'lon',\n",
            "       'faturamento'],\n",
            "      dtype='object')\n",
            "--- Colunas da loja: Loja 3 ---\n",
            "Index(['produto', 'categoria do produto', 'preco', 'frete', 'data da compra',\n",
            "       'vendedor', 'local da compra', 'avaliacão da compra',\n",
            "       'tipo de pagamento', 'quantidade de parcelas', 'lat', 'lon',\n",
            "       'faturamento'],\n",
            "      dtype='object')\n",
            "--- Colunas da loja: Loja 4 ---\n",
            "Index(['produto', 'categoria do produto', 'preco', 'frete', 'data da compra',\n",
            "       'vendedor', 'local da compra', 'avaliacão da compra',\n",
            "       'tipo de pagamento', 'quantidade de parcelas', 'lat', 'lon',\n",
            "       'faturamento'],\n",
            "      dtype='object')\n"
          ]
        }
      ]
    },
    {
      "cell_type": "code",
      "source": [
        "# Calcular a média de avaliações por loja\n",
        "avaliacoes_medias = {}\n",
        "for loja, df in dados_lojas.items():\n",
        "    try:\n",
        "        media = df[\"avaliacao da compra\"].mean()\n",
        "    except KeyError:\n",
        "        try:\n",
        "            media = df[\"avaliacão da compra\"].mean()\n",
        "        except KeyError:\n",
        "            print(f\"Aviso: Nenhuma coluna de avaliação encontrada na loja {loja}\")\n",
        "            continue  # Pula para a próxima loja se nenhuma coluna for encontrada\n",
        "    avaliacoes_medias[loja] = media\n",
        "\n",
        "# Mostrar os resultados\n",
        "for loja, media in avaliacoes_medias.items():\n",
        "    print(f\"{loja}: média de avaliação = {media:.2f}\")"
      ],
      "metadata": {
        "colab": {
          "base_uri": "https://localhost:8080/"
        },
        "id": "YIBeMHGR5clp",
        "outputId": "d166fc19-296e-4696-fc94-cbcbe99dea0d"
      },
      "execution_count": 10,
      "outputs": [
        {
          "output_type": "stream",
          "name": "stdout",
          "text": [
            "Loja 1: média de avaliação = 3.98\n",
            "Loja 2: média de avaliação = 4.04\n",
            "Loja 3: média de avaliação = 4.05\n",
            "Loja 4: média de avaliação = 4.00\n"
          ]
        }
      ]
    },
    {
      "cell_type": "code",
      "source": [
        "import matplotlib.pyplot as plt\n",
        "\n",
        "# Dados das médias de avaliação\n",
        "avaliacoes_medias = {\n",
        "    \"Loja 1\": 3.98,\n",
        "    \"Loja 2\": 4.04,\n",
        "    \"Loja 3\": 4.05,\n",
        "    \"Loja 4\": 4.00\n",
        "}\n",
        "\n",
        "# Configuração do gráfico\n",
        "plt.figure(figsize=(10, 6))\n",
        "plt.barh(list(avaliacoes_medias.keys()), list(avaliacoes_medias.values()), color='skyblue')\n",
        "plt.xlabel('Média de Avaliação')\n",
        "plt.title('Média de Avaliação por Loja')\n",
        "\n",
        "# Exibição do gráfico\n",
        "plt.show()\n"
      ],
      "metadata": {
        "colab": {
          "base_uri": "https://localhost:8080/",
          "height": 558
        },
        "id": "GZNRbL0-CrLg",
        "outputId": "a23f65f6-3b45-40b9-a71b-9c12a04e890d"
      },
      "execution_count": 40,
      "outputs": [
        {
          "output_type": "display_data",
          "data": {
            "text/plain": [
              "<Figure size 1000x600 with 1 Axes>"
            ],
            "image/png": "[encoded data removed]"
          },
          "metadata": {}
        }
      ]
    },
    {
      "cell_type": "markdown",
      "source": [
        "# 4. Produtos Mais e Menos Vendidos"
      ],
      "metadata": {
        "id": "DmNp1KPBZCm-"
      }
    },
    {
      "cell_type": "markdown",
      "source": [
        "# 5. Frete Médio por Loja\n"
      ],
      "metadata": {
        "id": "Fl0cGi3bZKqU"
      }
    },
    {
      "cell_type": "code",
      "source": [],
      "metadata": {
        "id": "S2JeaCykZNy9"
      },
      "execution_count": null,
      "outputs": []
    },
    {
      "cell_type": "code",
      "source": [],
      "metadata": {
        "id": "0tSdCie9ZQlt"
      },
      "execution_count": null,
      "outputs": []
    }
  ]
}